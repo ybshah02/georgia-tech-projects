{
 "cells": [
  {
   "metadata": {},
   "cell_type": "markdown",
   "source": [
    "## Introduction to Notebooks\n",
    "\n",
    "### Understanding Jupyter Notebooks\n",
    "\n",
    "**Note:** These Jupyter Notebooks are provided as optional tools and are not graded. To complete the assigned tasks, you must work with the provided `.py` Python files, pass the local tests, and submit these files to the autograder.\n",
    "\n",
    "Jupyter Notebooks serve as a flexible experimentation environment where you can test out ideas and focus on individual functions without needing the entire file to be error-free. This allows for iterative development and debugging in an interactive setting, making it easier to isolate and refine specific pieces of code.\n",
    "\n",
    "### Benefits:\n",
    "\n",
    "- **Flexibility:** Unlike the `.py` Python files, these Notebooks do not require you to adhere to a specific code structure, such as the use of Python classes. This difference in structure means you will need to modify your code when transferring it to the `.py` files. The Notebook environment is more forgiving, allowing for quick prototyping and testing.\n",
    "\n",
    "- **Interactive Environment:** Jupyter Notebooks allow you to execute code in smaller chunks (cells), providing immediate feedback. This feature is particularly useful for experimenting with code snippets, debugging, and data exploration.\n",
    "\n",
    "- **Environment Consistency:** To maintain consistency with the autograder environment, avoid importing libraries outside of the standard Python library (as outlined in the [Python 3.10 standard library documentation](https://docs.python.org/3.10/library/index.html)). The autograder will not support additional libraries, so it is crucial to test your code within these constraints.\n",
    "\n",
    "### Background on Notebooks\n",
    "\n",
    "Jupyter Notebooks have been a popular tool in the data science and machine learning communities for years. Initially, one limitation was the reliance on the text-based Python debugger `pdb` for debugging. However, with the advent of [JupyterLab](https://jupyter.org/), it is now possible to run a full graphical debugger within Notebooks. While using this feature is outside the scope of this course, it’s available if you wish to explore it.\n",
    "\n",
    "You can edit Jupyter Notebooks in the following IDEs:\n",
    "\n",
    "- **Browser / Native:** Simply open Jupyter in your browser, navigate to your file, and start working.\n",
    "- **VS Code:** The free version of Visual Studio Code supports Jupyter Notebook editing with the appropriate extensions installed.\n",
    "- **PyCharm by JetBrains:**\n",
    "  - The free PyCharm Community edition (which is provided via an install script on the VM) does not support Jupyter Notebook editing.\n",
    "  - You need the paid Professional version. As a Georgia Tech student, you can obtain a free license through [JetBrains Education](https://www.jetbrains.com/community/education/#students).\n",
    "\n",
    "### Notebook Specifics\n",
    "\n",
    "Jupyter Notebooks operate in a top-down manner, meaning that cells must be executed in order, particularly if later cells depend on code or variables defined in earlier ones. This is essential to remember when running cells individually, as skipping necessary cells can lead to errors.\n",
    "\n",
    "**Common Commands:**\n",
    "- `Ctrl-Enter`: Run the current cell without moving to the next one.\n",
    "- `Shift-Enter`: Run the current cell and move to the next one.\n",
    "- `Ctrl-S`: Save the Notebook and create a [checkpoint](https://deepnote.com/guides/versioning/what-are-checkpoints-in-a-juptyer-notebook) ([archive.org link](https://web.archive.org/web/20240303121418/https://deepnote.com/guides/versioning/what-are-checkpoints-in-a-juptyer-notebook)).\n",
    "\n",
    "**Autosave Feature:**\n",
    "- Notebooks autosave by default, ensuring your work is regularly saved as you go. However, this only saves the `.ipynb` file and does not create a checkpoint.\n",
    "- You can adjust the autosave interval using the `%autosave <number of seconds>` magic command.\n",
    "\n",
    "**Learning Resources:**\n",
    "- For a general overview of Jupyter Notebook commands and features, [this Jupyter Notebook cheatsheet](https://www.edureka.co/blog/wp-content/uploads/2018/10/Jupyter_Notebook_CheatSheet_Edureka.pdf) is oriented towards using Notebooks in a browser. Note that some commands may differ depending on the IDE you are using.\n",
    "\n",
    "### Tips for Effective Use:\n",
    "- **Modular Testing:** Use the Notebook environment to test and debug smaller sections of your code before integrating them into the larger `.py` file.\n",
    "- **Version Control:** While Jupyter Notebooks provide checkpoints and autosave, consider versioning your work manually or using a version control system like Git to track changes over time.\n",
    "- **Environment Setup:** Ensure that your Notebook environment closely mirrors the autograder environment to avoid compatibility issues when transferring code.\n",
    "\n",
    "The information here may not be up to date, be sure you check the [current documentation](https://github.gatech.edu/pages/cs6035-tools/cs6035-tools.github.io/Projects/) and Ed Discussion for the latest project updates.\n"
   ],
   "id": "f7f7fcf3b5ff2b76"
  }
 ],
 "metadata": {
  "kernelspec": {
   "display_name": "Python 3",
   "language": "python",
   "name": "python3"
  },
  "language_info": {
   "codemirror_mode": {
    "name": "ipython",
    "version": 2
   },
   "file_extension": ".py",
   "mimetype": "text/x-python",
   "name": "python",
   "nbconvert_exporter": "python",
   "pygments_lexer": "ipython2",
   "version": "2.7.6"
  }
 },
 "nbformat": 4,
 "nbformat_minor": 5
}
